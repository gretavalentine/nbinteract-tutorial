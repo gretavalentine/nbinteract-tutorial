{
 "cells": [
  {
   "cell_type": "markdown",
   "metadata": {},
   "source": [
    "Looks at all unique PRO items from a given timeframe, whether or not they have a DOI"
   ]
  },
  {
   "cell_type": "markdown",
   "metadata": {},
   "source": [
    "# Load Data"
   ]
  },
  {
   "cell_type": "code",
   "execution_count": 1,
   "metadata": {},
   "outputs": [
    {
     "data": {
      "text/html": [
       "        <script type=\"text/javascript\">\n",
       "        window.PlotlyConfig = {MathJaxConfig: 'local'};\n",
       "        if (window.MathJax) {MathJax.Hub.Config({SVG: {font: \"STIX-Web\"}});}\n",
       "        if (typeof require !== 'undefined') {\n",
       "        require.undef(\"plotly\");\n",
       "        requirejs.config({\n",
       "            paths: {\n",
       "                'plotly': ['https://cdn.plot.ly/plotly-latest.min']\n",
       "            }\n",
       "        });\n",
       "        require(['plotly'], function(Plotly) {\n",
       "            window._Plotly = Plotly;\n",
       "        });\n",
       "        }\n",
       "        </script>\n",
       "        "
      ]
     },
     "metadata": {},
     "output_type": "display_data"
    }
   ],
   "source": [
    "import json, csv\n",
    "import sys\n",
    "import requests\n",
    "import pandas as pd\n",
    "import re\n",
    "import cufflinks as cf\n",
    "import numpy as np\n",
    "\n",
    "import plotly.offline\n",
    "cf.go_offline()\n",
    "cf.set_config_file(offline=False, world_readable=True)"
   ]
  },
  {
   "cell_type": "code",
   "execution_count": 2,
   "metadata": {},
   "outputs": [],
   "source": [
    "#make df from CSV if you don't need to add new DOIs\n",
    "sample = pd.read_csv('2017_PRO_for_Unpaywall_Complete.csv', encoding='ISO-8859-1')"
   ]
  },
  {
   "cell_type": "code",
   "execution_count": 3,
   "metadata": {},
   "outputs": [
    {
     "data": {
      "text/plain": [
       "(1680, 18)"
      ]
     },
     "execution_count": 3,
     "metadata": {},
     "output_type": "execute_result"
    }
   ],
   "source": [
    "sample.shape"
   ]
  },
  {
   "cell_type": "code",
   "execution_count": 4,
   "metadata": {},
   "outputs": [],
   "source": [
    "#drop duplicate GroupID_Final to get list of unique items\n",
    "sample = sample.drop_duplicates(['GroupID_Final'], keep='first')"
   ]
  },
  {
   "cell_type": "code",
   "execution_count": 5,
   "metadata": {},
   "outputs": [
    {
     "data": {
      "text/plain": [
       "(1680, 18)"
      ]
     },
     "execution_count": 5,
     "metadata": {},
     "output_type": "execute_result"
    }
   ],
   "source": [
    "sample.shape"
   ]
  },
  {
   "cell_type": "code",
   "execution_count": 6,
   "metadata": {},
   "outputs": [
    {
     "name": "stdout",
     "output_type": "stream",
     "text": [
      "1680\n"
     ]
    }
   ],
   "source": [
    "total = len(sample['GroupID_Final'])\n",
    "print(total)"
   ]
  },
  {
   "cell_type": "markdown",
   "metadata": {},
   "source": [
    "# Articles Free to Read"
   ]
  },
  {
   "cell_type": "code",
   "execution_count": 13,
   "metadata": {},
   "outputs": [
    {
     "data": {
      "text/plain": [
       "Unknown    739\n",
       "True       554\n",
       "False      387\n",
       "Name: Free_to_Read, dtype: int64"
      ]
     },
     "execution_count": 13,
     "metadata": {},
     "output_type": "execute_result"
    }
   ],
   "source": [
    "sample['Free_to_Read'].value_counts()"
   ]
  },
  {
   "cell_type": "code",
   "execution_count": 15,
   "metadata": {},
   "outputs": [
    {
     "data": {
      "application/vnd.plotly.v1+json": {
       "config": {
        "linkText": "Export to plot.ly",
        "plotlyServerURL": "https://plot.ly",
        "responsive": true,
        "showLink": true
       },
       "data": [
        {
         "marker": {
          "color": "rgba(255, 153, 51, 0.6)",
          "line": {
           "color": "rgba(255, 153, 51, 1.0)",
           "width": 1
          }
         },
         "name": "2017.0",
         "orientation": "v",
         "text": "",
         "type": "bar",
         "uid": "feb074f6-4e4d-44ec-a0de-9b38761f1365",
         "x": [
          "True",
          "False",
          "Unknown"
         ],
         "y": [
          32.5,
          20.595238095238095,
          41.07142857142857
         ]
        }
       ],
       "layout": {
        "barmode": "stack",
        "legend": {
         "bgcolor": "#F5F6F9",
         "font": {
          "color": "#4D5663"
         },
         "traceorder": "normal"
        },
        "paper_bgcolor": "#F5F6F9",
        "plot_bgcolor": "#F5F6F9",
        "title": {
         "font": {
          "color": "#4D5663"
         },
         "text": "Percentage of Articles that are Free to Read"
        },
        "xaxis": {
         "gridcolor": "#E1E5ED",
         "showgrid": true,
         "tickfont": {
          "color": "#4D5663"
         },
         "title": {
          "font": {
           "color": "#4D5663"
          },
          "text": ""
         },
         "zerolinecolor": "#E1E5ED"
        },
        "yaxis": {
         "gridcolor": "#E1E5ED",
         "showgrid": true,
         "tickfont": {
          "color": "#4D5663"
         },
         "title": {
          "font": {
           "color": "#4D5663"
          },
          "text": ""
         },
         "zerolinecolor": "#E1E5ED"
        }
       }
      },
      "text/html": [
       "<div>\n",
       "        \n",
       "        \n",
       "            <div id=\"f74d60f1-8330-4767-a409-b6223e3ddc84\" class=\"plotly-graph-div\" style=\"height:525px; width:100%;\"></div>\n",
       "            <script type=\"text/javascript\">\n",
       "                require([\"plotly\"], function(Plotly) {\n",
       "                    window.PLOTLYENV=window.PLOTLYENV || {};\n",
       "                    window.PLOTLYENV.BASE_URL='https://plot.ly';\n",
       "                    \n",
       "                if (document.getElementById(\"f74d60f1-8330-4767-a409-b6223e3ddc84\")) {\n",
       "                    Plotly.newPlot(\n",
       "                        'f74d60f1-8330-4767-a409-b6223e3ddc84',\n",
       "                        [{\"marker\": {\"color\": \"rgba(255, 153, 51, 0.6)\", \"line\": {\"color\": \"rgba(255, 153, 51, 1.0)\", \"width\": 1}}, \"name\": \"2017.0\", \"orientation\": \"v\", \"text\": \"\", \"type\": \"bar\", \"uid\": \"2b524c6e-db50-41d5-ba72-dab49ff515e9\", \"x\": [\"True\", \"False\", \"Unknown\"], \"y\": [32.5, 20.595238095238095, 41.07142857142857]}],\n",
       "                        {\"barmode\": \"stack\", \"legend\": {\"bgcolor\": \"#F5F6F9\", \"font\": {\"color\": \"#4D5663\"}, \"traceorder\": \"normal\"}, \"paper_bgcolor\": \"#F5F6F9\", \"plot_bgcolor\": \"#F5F6F9\", \"title\": {\"font\": {\"color\": \"#4D5663\"}, \"text\": \"Percentage of Articles that are Free to Read\"}, \"xaxis\": {\"gridcolor\": \"#E1E5ED\", \"showgrid\": true, \"tickfont\": {\"color\": \"#4D5663\"}, \"title\": {\"font\": {\"color\": \"#4D5663\"}, \"text\": \"\"}, \"zerolinecolor\": \"#E1E5ED\"}, \"yaxis\": {\"gridcolor\": \"#E1E5ED\", \"showgrid\": true, \"tickfont\": {\"color\": \"#4D5663\"}, \"title\": {\"font\": {\"color\": \"#4D5663\"}, \"text\": \"\"}, \"zerolinecolor\": \"#E1E5ED\"}},\n",
       "                        {\"showLink\": true, \"linkText\": \"Export to plot.ly\", \"plotlyServerURL\": \"https://plot.ly\", \"responsive\": true}\n",
       "                    ).then(function(){\n",
       "                            \n",
       "var gd = document.getElementById('f74d60f1-8330-4767-a409-b6223e3ddc84');\n",
       "var x = new MutationObserver(function (mutations, observer) {{\n",
       "        var display = window.getComputedStyle(gd).display;\n",
       "        if (!display || display === 'none') {{\n",
       "            console.log([gd, 'removed!']);\n",
       "            Plotly.purge(gd);\n",
       "            observer.disconnect();\n",
       "        }}\n",
       "}});\n",
       "\n",
       "// Listen for the removal of the full notebook cells\n",
       "var notebookContainer = gd.closest('#notebook-container');\n",
       "if (notebookContainer) {{\n",
       "    x.observe(notebookContainer, {childList: true});\n",
       "}}\n",
       "\n",
       "// Listen for the clearing of the current output cell\n",
       "var outputEl = gd.closest('.output');\n",
       "if (outputEl) {{\n",
       "    x.observe(outputEl, {childList: true});\n",
       "}}\n",
       "\n",
       "                        })\n",
       "                };\n",
       "                });\n",
       "            </script>\n",
       "        </div>"
      ]
     },
     "metadata": {},
     "output_type": "display_data"
    }
   ],
   "source": [
    "#open articles by year (for only rows with a DOI)\n",
    "open_dois = ((sample[sample['Free_to_Read']=='True']['Year'].value_counts())/total)*100\n",
    "closed_dois = ((sample[sample['Free_to_Read']=='False']['Year'].value_counts())/total)*100\n",
    "unknown_dois = ((sample[sample['Free_to_Read']=='Unknown']['Year'].value_counts())/total)*100\n",
    "\n",
    "df1 = pd.DataFrame([open_dois,closed_dois,unknown_dois])\n",
    "df1.index = ['True','False','Unknown']\n",
    "df1.iplot(kind='bar',barmode='stack', title='Percentage of Articles that are Free to Read')"
   ]
  },
  {
   "cell_type": "markdown",
   "metadata": {},
   "source": [
    "# Type of URL"
   ]
  },
  {
   "cell_type": "code",
   "execution_count": 16,
   "metadata": {},
   "outputs": [
    {
     "data": {
      "text/plain": [
       "None             1126\n",
       "Non-KUSW-link     517\n",
       "KUSW               37\n",
       "Name: Open_Type, dtype: int64"
      ]
     },
     "execution_count": 16,
     "metadata": {},
     "output_type": "execute_result"
    }
   ],
   "source": [
    "sample['Open_Type'].value_counts()"
   ]
  },
  {
   "cell_type": "code",
   "execution_count": 17,
   "metadata": {},
   "outputs": [
    {
     "data": {
      "application/vnd.plotly.v1+json": {
       "config": {
        "linkText": "Export to plot.ly",
        "plotlyServerURL": "https://plot.ly",
        "responsive": true,
        "showLink": true
       },
       "data": [
        {
         "marker": {
          "color": "rgba(255, 153, 51, 0.6)",
          "line": {
           "color": "rgba(255, 153, 51, 1.0)",
           "width": 1
          }
         },
         "name": "KUSW",
         "orientation": "v",
         "text": "",
         "type": "bar",
         "uid": "a68e837e-1412-49e4-b7d1-96af8890e7ec",
         "x": [
          "KUSW",
          "Non-KUSW-link",
          "None"
         ],
         "y": [
          37,
          "",
          ""
         ]
        },
        {
         "marker": {
          "color": "rgba(55, 128, 191, 0.6)",
          "line": {
           "color": "rgba(55, 128, 191, 1.0)",
           "width": 1
          }
         },
         "name": "Non-KUSW-link",
         "orientation": "v",
         "text": "",
         "type": "bar",
         "uid": "ff3a53a3-388f-4bf5-8966-f6f1c4f85537",
         "x": [
          "KUSW",
          "Non-KUSW-link",
          "None"
         ],
         "y": [
          "",
          517,
          ""
         ]
        },
        {
         "marker": {
          "color": "rgba(50, 171, 96, 0.6)",
          "line": {
           "color": "rgba(50, 171, 96, 1.0)",
           "width": 1
          }
         },
         "name": "None",
         "orientation": "v",
         "text": "",
         "type": "bar",
         "uid": "82d96361-f071-47c5-ad6d-c428c52e7450",
         "x": [
          "KUSW",
          "Non-KUSW-link",
          "None"
         ],
         "y": [
          "",
          "",
          1126
         ]
        }
       ],
       "layout": {
        "barmode": "stack",
        "legend": {
         "bgcolor": "#F5F6F9",
         "font": {
          "color": "#4D5663"
         },
         "traceorder": "normal"
        },
        "paper_bgcolor": "#F5F6F9",
        "plot_bgcolor": "#F5F6F9",
        "title": {
         "font": {
          "color": "#4D5663"
         },
         "text": "Types of URLs"
        },
        "xaxis": {
         "gridcolor": "#E1E5ED",
         "showgrid": true,
         "tickfont": {
          "color": "#4D5663"
         },
         "title": {
          "font": {
           "color": "#4D5663"
          },
          "text": ""
         },
         "zerolinecolor": "#E1E5ED"
        },
        "yaxis": {
         "gridcolor": "#E1E5ED",
         "showgrid": true,
         "tickfont": {
          "color": "#4D5663"
         },
         "title": {
          "font": {
           "color": "#4D5663"
          },
          "text": ""
         },
         "zerolinecolor": "#E1E5ED"
        }
       }
      },
      "text/html": [
       "<div>\n",
       "        \n",
       "        \n",
       "            <div id=\"450597a1-7b18-4610-9206-a3da7ee8a0a0\" class=\"plotly-graph-div\" style=\"height:525px; width:100%;\"></div>\n",
       "            <script type=\"text/javascript\">\n",
       "                require([\"plotly\"], function(Plotly) {\n",
       "                    window.PLOTLYENV=window.PLOTLYENV || {};\n",
       "                    window.PLOTLYENV.BASE_URL='https://plot.ly';\n",
       "                    \n",
       "                if (document.getElementById(\"450597a1-7b18-4610-9206-a3da7ee8a0a0\")) {\n",
       "                    Plotly.newPlot(\n",
       "                        '450597a1-7b18-4610-9206-a3da7ee8a0a0',\n",
       "                        [{\"marker\": {\"color\": \"rgba(255, 153, 51, 0.6)\", \"line\": {\"color\": \"rgba(255, 153, 51, 1.0)\", \"width\": 1}}, \"name\": \"KUSW\", \"orientation\": \"v\", \"text\": \"\", \"type\": \"bar\", \"uid\": \"06141878-b184-4362-94b9-82a5575d0392\", \"x\": [\"KUSW\", \"Non-KUSW-link\", \"None\"], \"y\": [37.0, \"\", \"\"]}, {\"marker\": {\"color\": \"rgba(55, 128, 191, 0.6)\", \"line\": {\"color\": \"rgba(55, 128, 191, 1.0)\", \"width\": 1}}, \"name\": \"Non-KUSW-link\", \"orientation\": \"v\", \"text\": \"\", \"type\": \"bar\", \"uid\": \"d023cc0a-7a27-40f1-8fc9-cd6f91713750\", \"x\": [\"KUSW\", \"Non-KUSW-link\", \"None\"], \"y\": [\"\", 517.0, \"\"]}, {\"marker\": {\"color\": \"rgba(50, 171, 96, 0.6)\", \"line\": {\"color\": \"rgba(50, 171, 96, 1.0)\", \"width\": 1}}, \"name\": \"None\", \"orientation\": \"v\", \"text\": \"\", \"type\": \"bar\", \"uid\": \"16bc21ec-fe6a-448d-aaa8-77386671be34\", \"x\": [\"KUSW\", \"Non-KUSW-link\", \"None\"], \"y\": [\"\", \"\", 1126.0]}],\n",
       "                        {\"barmode\": \"stack\", \"legend\": {\"bgcolor\": \"#F5F6F9\", \"font\": {\"color\": \"#4D5663\"}, \"traceorder\": \"normal\"}, \"paper_bgcolor\": \"#F5F6F9\", \"plot_bgcolor\": \"#F5F6F9\", \"title\": {\"font\": {\"color\": \"#4D5663\"}, \"text\": \"Types of URLs\"}, \"xaxis\": {\"gridcolor\": \"#E1E5ED\", \"showgrid\": true, \"tickfont\": {\"color\": \"#4D5663\"}, \"title\": {\"font\": {\"color\": \"#4D5663\"}, \"text\": \"\"}, \"zerolinecolor\": \"#E1E5ED\"}, \"yaxis\": {\"gridcolor\": \"#E1E5ED\", \"showgrid\": true, \"tickfont\": {\"color\": \"#4D5663\"}, \"title\": {\"font\": {\"color\": \"#4D5663\"}, \"text\": \"\"}, \"zerolinecolor\": \"#E1E5ED\"}},\n",
       "                        {\"showLink\": true, \"linkText\": \"Export to plot.ly\", \"plotlyServerURL\": \"https://plot.ly\", \"responsive\": true}\n",
       "                    ).then(function(){\n",
       "                            \n",
       "var gd = document.getElementById('450597a1-7b18-4610-9206-a3da7ee8a0a0');\n",
       "var x = new MutationObserver(function (mutations, observer) {{\n",
       "        var display = window.getComputedStyle(gd).display;\n",
       "        if (!display || display === 'none') {{\n",
       "            console.log([gd, 'removed!']);\n",
       "            Plotly.purge(gd);\n",
       "            observer.disconnect();\n",
       "        }}\n",
       "}});\n",
       "\n",
       "// Listen for the removal of the full notebook cells\n",
       "var notebookContainer = gd.closest('#notebook-container');\n",
       "if (notebookContainer) {{\n",
       "    x.observe(notebookContainer, {childList: true});\n",
       "}}\n",
       "\n",
       "// Listen for the clearing of the current output cell\n",
       "var outputEl = gd.closest('.output');\n",
       "if (outputEl) {{\n",
       "    x.observe(outputEl, {childList: true});\n",
       "}}\n",
       "\n",
       "                        })\n",
       "                };\n",
       "                });\n",
       "            </script>\n",
       "        </div>"
      ]
     },
     "metadata": {},
     "output_type": "display_data"
    }
   ],
   "source": [
    "#open articles by year\n",
    "kusw = sample[sample['Open_Type']=='KUSW']['Open_Type'].value_counts()\n",
    "non_kusw = sample[sample['Open_Type']=='Non-KUSW-link']['Open_Type'].value_counts()\n",
    "no_info = sample[sample['Open_Type']=='None']['Open_Type'].value_counts()\n",
    "df2 = pd.DataFrame([kusw,non_kusw,no_info])\n",
    "df2.index = ['KUSW','Non-KUSW-link','None']\n",
    "df2.iplot(kind='bar', barmode='stack', title='Types of URLs')"
   ]
  },
  {
   "cell_type": "markdown",
   "metadata": {},
   "source": [
    "# Publisher Policies"
   ]
  },
  {
   "cell_type": "code",
   "execution_count": 18,
   "metadata": {},
   "outputs": [
    {
     "data": {
      "application/vnd.plotly.v1+json": {
       "config": {
        "linkText": "Export to plot.ly",
        "plotlyServerURL": "https://plot.ly",
        "responsive": true,
        "showLink": true
       },
       "data": [
        {
         "marker": {
          "color": "rgba(255, 153, 51, 0.6)",
          "line": {
           "color": "rgba(255, 153, 51, 1.0)",
           "width": 1
          }
         },
         "name": "AFD",
         "orientation": "v",
         "text": "",
         "type": "bar",
         "uid": "ee75b463-c27c-4ec2-a870-a9852e7e6784",
         "x": [
          "AFD",
          "Published",
          "May not share",
          "Unclear/Unknown"
         ],
         "y": [
          1038,
          "",
          "",
          ""
         ]
        },
        {
         "marker": {
          "color": "rgba(55, 128, 191, 0.6)",
          "line": {
           "color": "rgba(55, 128, 191, 1.0)",
           "width": 1
          }
         },
         "name": "Published",
         "orientation": "v",
         "text": "",
         "type": "bar",
         "uid": "ec0821c4-b1b2-42a0-943e-aa31cb02e945",
         "x": [
          "AFD",
          "Published",
          "May not share",
          "Unclear/Unknown"
         ],
         "y": [
          "",
          484,
          "",
          ""
         ]
        },
        {
         "marker": {
          "color": "rgba(50, 171, 96, 0.6)",
          "line": {
           "color": "rgba(50, 171, 96, 1.0)",
           "width": 1
          }
         },
         "name": "May not share",
         "orientation": "v",
         "text": "",
         "type": "bar",
         "uid": "faacfcd5-1483-4b95-b17c-2b645c13c2f2",
         "x": [
          "AFD",
          "Published",
          "May not share",
          "Unclear/Unknown"
         ],
         "y": [
          "",
          "",
          3,
          ""
         ]
        },
        {
         "marker": {
          "color": "rgba(128, 0, 128, 0.6)",
          "line": {
           "color": "rgba(128, 0, 128, 1.0)",
           "width": 1
          }
         },
         "name": "Unclear/Unknown",
         "orientation": "v",
         "text": "",
         "type": "bar",
         "uid": "3cc8a7e8-c008-4b24-97ec-1ad7d4f913db",
         "x": [
          "AFD",
          "Published",
          "May not share",
          "Unclear/Unknown"
         ],
         "y": [
          "",
          "",
          "",
          155
         ]
        }
       ],
       "layout": {
        "barmode": "stack",
        "legend": {
         "bgcolor": "#F5F6F9",
         "font": {
          "color": "#4D5663"
         },
         "traceorder": "normal"
        },
        "paper_bgcolor": "#F5F6F9",
        "plot_bgcolor": "#F5F6F9",
        "title": {
         "font": {
          "color": "#4D5663"
         },
         "text": "Publisher Policies for All Articles"
        },
        "xaxis": {
         "gridcolor": "#E1E5ED",
         "showgrid": true,
         "tickfont": {
          "color": "#4D5663"
         },
         "title": {
          "font": {
           "color": "#4D5663"
          },
          "text": ""
         },
         "zerolinecolor": "#E1E5ED"
        },
        "yaxis": {
         "gridcolor": "#E1E5ED",
         "showgrid": true,
         "tickfont": {
          "color": "#4D5663"
         },
         "title": {
          "font": {
           "color": "#4D5663"
          },
          "text": ""
         },
         "zerolinecolor": "#E1E5ED"
        }
       }
      },
      "text/html": [
       "<div>\n",
       "        \n",
       "        \n",
       "            <div id=\"7dace07b-1d56-4c3c-90e6-ae8780a3610d\" class=\"plotly-graph-div\" style=\"height:525px; width:100%;\"></div>\n",
       "            <script type=\"text/javascript\">\n",
       "                require([\"plotly\"], function(Plotly) {\n",
       "                    window.PLOTLYENV=window.PLOTLYENV || {};\n",
       "                    window.PLOTLYENV.BASE_URL='https://plot.ly';\n",
       "                    \n",
       "                if (document.getElementById(\"7dace07b-1d56-4c3c-90e6-ae8780a3610d\")) {\n",
       "                    Plotly.newPlot(\n",
       "                        '7dace07b-1d56-4c3c-90e6-ae8780a3610d',\n",
       "                        [{\"marker\": {\"color\": \"rgba(255, 153, 51, 0.6)\", \"line\": {\"color\": \"rgba(255, 153, 51, 1.0)\", \"width\": 1}}, \"name\": \"AFD\", \"orientation\": \"v\", \"text\": \"\", \"type\": \"bar\", \"uid\": \"41da2190-c5d6-476b-bc09-9502025507e8\", \"x\": [\"AFD\", \"Published\", \"May not share\", \"Unclear/Unknown\"], \"y\": [1038.0, \"\", \"\", \"\"]}, {\"marker\": {\"color\": \"rgba(55, 128, 191, 0.6)\", \"line\": {\"color\": \"rgba(55, 128, 191, 1.0)\", \"width\": 1}}, \"name\": \"Published\", \"orientation\": \"v\", \"text\": \"\", \"type\": \"bar\", \"uid\": \"d097e4bb-6efd-41e7-ab40-78d82d17c2aa\", \"x\": [\"AFD\", \"Published\", \"May not share\", \"Unclear/Unknown\"], \"y\": [\"\", 484.0, \"\", \"\"]}, {\"marker\": {\"color\": \"rgba(50, 171, 96, 0.6)\", \"line\": {\"color\": \"rgba(50, 171, 96, 1.0)\", \"width\": 1}}, \"name\": \"May not share\", \"orientation\": \"v\", \"text\": \"\", \"type\": \"bar\", \"uid\": \"6f5269ed-fd5e-43e4-ac55-93b043c4c731\", \"x\": [\"AFD\", \"Published\", \"May not share\", \"Unclear/Unknown\"], \"y\": [\"\", \"\", 3.0, \"\"]}, {\"marker\": {\"color\": \"rgba(128, 0, 128, 0.6)\", \"line\": {\"color\": \"rgba(128, 0, 128, 1.0)\", \"width\": 1}}, \"name\": \"Unclear/Unknown\", \"orientation\": \"v\", \"text\": \"\", \"type\": \"bar\", \"uid\": \"1469448e-92f7-41fc-83f8-828aa2441f3e\", \"x\": [\"AFD\", \"Published\", \"May not share\", \"Unclear/Unknown\"], \"y\": [\"\", \"\", \"\", 155.0]}],\n",
       "                        {\"barmode\": \"stack\", \"legend\": {\"bgcolor\": \"#F5F6F9\", \"font\": {\"color\": \"#4D5663\"}, \"traceorder\": \"normal\"}, \"paper_bgcolor\": \"#F5F6F9\", \"plot_bgcolor\": \"#F5F6F9\", \"title\": {\"font\": {\"color\": \"#4D5663\"}, \"text\": \"Publisher Policies for All Articles\"}, \"xaxis\": {\"gridcolor\": \"#E1E5ED\", \"showgrid\": true, \"tickfont\": {\"color\": \"#4D5663\"}, \"title\": {\"font\": {\"color\": \"#4D5663\"}, \"text\": \"\"}, \"zerolinecolor\": \"#E1E5ED\"}, \"yaxis\": {\"gridcolor\": \"#E1E5ED\", \"showgrid\": true, \"tickfont\": {\"color\": \"#4D5663\"}, \"title\": {\"font\": {\"color\": \"#4D5663\"}, \"text\": \"\"}, \"zerolinecolor\": \"#E1E5ED\"}},\n",
       "                        {\"showLink\": true, \"linkText\": \"Export to plot.ly\", \"plotlyServerURL\": \"https://plot.ly\", \"responsive\": true}\n",
       "                    ).then(function(){\n",
       "                            \n",
       "var gd = document.getElementById('7dace07b-1d56-4c3c-90e6-ae8780a3610d');\n",
       "var x = new MutationObserver(function (mutations, observer) {{\n",
       "        var display = window.getComputedStyle(gd).display;\n",
       "        if (!display || display === 'none') {{\n",
       "            console.log([gd, 'removed!']);\n",
       "            Plotly.purge(gd);\n",
       "            observer.disconnect();\n",
       "        }}\n",
       "}});\n",
       "\n",
       "// Listen for the removal of the full notebook cells\n",
       "var notebookContainer = gd.closest('#notebook-container');\n",
       "if (notebookContainer) {{\n",
       "    x.observe(notebookContainer, {childList: true});\n",
       "}}\n",
       "\n",
       "// Listen for the clearing of the current output cell\n",
       "var outputEl = gd.closest('.output');\n",
       "if (outputEl) {{\n",
       "    x.observe(outputEl, {childList: true});\n",
       "}}\n",
       "\n",
       "                        })\n",
       "                };\n",
       "                });\n",
       "            </script>\n",
       "        </div>"
      ]
     },
     "metadata": {},
     "output_type": "display_data"
    }
   ],
   "source": [
    "afd = sample[sample['Rights_to_share']=='AFD']['Rights_to_share'].value_counts()\n",
    "unknown = sample[sample['Rights_to_share']=='Unclear/Unknown']['Rights_to_share'].value_counts()\n",
    "published = sample[sample['Rights_to_share']=='Published']['Rights_to_share'].value_counts()\n",
    "no_share = sample[sample['Rights_to_share']=='May not share']['Rights_to_share'].value_counts()\n",
    "\n",
    "df3 = pd.DataFrame([afd,published,no_share,unknown])\n",
    "df3.index = ['AFD','Published','May not share','Unclear/Unknown']\n",
    "df3.iplot(kind='bar',barmode='stack', title='Publisher Policies for All Articles')"
   ]
  },
  {
   "cell_type": "markdown",
   "metadata": {},
   "source": [
    "# Publisher Policies for Open Items"
   ]
  },
  {
   "cell_type": "code",
   "execution_count": 19,
   "metadata": {},
   "outputs": [],
   "source": [
    "open_dois = sample[sample['Free_to_Read']=='True']"
   ]
  },
  {
   "cell_type": "code",
   "execution_count": 20,
   "metadata": {},
   "outputs": [
    {
     "data": {
      "application/vnd.plotly.v1+json": {
       "config": {
        "linkText": "Export to plot.ly",
        "plotlyServerURL": "https://plot.ly",
        "responsive": true,
        "showLink": true
       },
       "data": [
        {
         "marker": {
          "color": "rgba(255, 153, 51, 0.6)",
          "line": {
           "color": "rgba(255, 153, 51, 1.0)",
           "width": 1
          }
         },
         "name": "AFD",
         "orientation": "v",
         "text": "",
         "type": "bar",
         "uid": "f9b397ea-f519-47ad-bbee-c91377b1e479",
         "x": [
          "AFD",
          "Published",
          "May not share",
          "Unclear/Unknown"
         ],
         "y": [
          192,
          "",
          "",
          ""
         ]
        },
        {
         "marker": {
          "color": "rgba(55, 128, 191, 0.6)",
          "line": {
           "color": "rgba(55, 128, 191, 1.0)",
           "width": 1
          }
         },
         "name": "Published",
         "orientation": "v",
         "text": "",
         "type": "bar",
         "uid": "644e6973-753c-46b6-a729-6d76f553ddc6",
         "x": [
          "AFD",
          "Published",
          "May not share",
          "Unclear/Unknown"
         ],
         "y": [
          "",
          344,
          "",
          ""
         ]
        },
        {
         "marker": {
          "color": "rgba(50, 171, 96, 0.6)",
          "line": {
           "color": "rgba(50, 171, 96, 1.0)",
           "width": 1
          }
         },
         "name": "May not share",
         "orientation": "v",
         "text": "",
         "type": "bar",
         "uid": "8705ec41-8e17-4d08-b8a0-bb0047b9e27e",
         "x": [
          "AFD",
          "Published",
          "May not share",
          "Unclear/Unknown"
         ],
         "y": [
          "",
          "",
          3,
          ""
         ]
        },
        {
         "marker": {
          "color": "rgba(128, 0, 128, 0.6)",
          "line": {
           "color": "rgba(128, 0, 128, 1.0)",
           "width": 1
          }
         },
         "name": "Unclear/Unknown",
         "orientation": "v",
         "text": "",
         "type": "bar",
         "uid": "8dceaca8-e844-4190-8225-3c1731f33227",
         "x": [
          "AFD",
          "Published",
          "May not share",
          "Unclear/Unknown"
         ],
         "y": [
          "",
          "",
          "",
          15
         ]
        }
       ],
       "layout": {
        "barmode": "stack",
        "legend": {
         "bgcolor": "#F5F6F9",
         "font": {
          "color": "#4D5663"
         },
         "traceorder": "normal"
        },
        "paper_bgcolor": "#F5F6F9",
        "plot_bgcolor": "#F5F6F9",
        "title": {
         "font": {
          "color": "#4D5663"
         },
         "text": "Publisher Policies for Articles that are Free to Read"
        },
        "xaxis": {
         "gridcolor": "#E1E5ED",
         "showgrid": true,
         "tickfont": {
          "color": "#4D5663"
         },
         "title": {
          "font": {
           "color": "#4D5663"
          },
          "text": ""
         },
         "zerolinecolor": "#E1E5ED"
        },
        "yaxis": {
         "gridcolor": "#E1E5ED",
         "showgrid": true,
         "tickfont": {
          "color": "#4D5663"
         },
         "title": {
          "font": {
           "color": "#4D5663"
          },
          "text": ""
         },
         "zerolinecolor": "#E1E5ED"
        }
       }
      },
      "text/html": [
       "<div>\n",
       "        \n",
       "        \n",
       "            <div id=\"d807981b-ae8d-422e-96af-bf1efc63efb0\" class=\"plotly-graph-div\" style=\"height:525px; width:100%;\"></div>\n",
       "            <script type=\"text/javascript\">\n",
       "                require([\"plotly\"], function(Plotly) {\n",
       "                    window.PLOTLYENV=window.PLOTLYENV || {};\n",
       "                    window.PLOTLYENV.BASE_URL='https://plot.ly';\n",
       "                    \n",
       "                if (document.getElementById(\"d807981b-ae8d-422e-96af-bf1efc63efb0\")) {\n",
       "                    Plotly.newPlot(\n",
       "                        'd807981b-ae8d-422e-96af-bf1efc63efb0',\n",
       "                        [{\"marker\": {\"color\": \"rgba(255, 153, 51, 0.6)\", \"line\": {\"color\": \"rgba(255, 153, 51, 1.0)\", \"width\": 1}}, \"name\": \"AFD\", \"orientation\": \"v\", \"text\": \"\", \"type\": \"bar\", \"uid\": \"f5184b4f-77a0-4bfc-90ac-6fa10362dbe9\", \"x\": [\"AFD\", \"Published\", \"May not share\", \"Unclear/Unknown\"], \"y\": [192.0, \"\", \"\", \"\"]}, {\"marker\": {\"color\": \"rgba(55, 128, 191, 0.6)\", \"line\": {\"color\": \"rgba(55, 128, 191, 1.0)\", \"width\": 1}}, \"name\": \"Published\", \"orientation\": \"v\", \"text\": \"\", \"type\": \"bar\", \"uid\": \"7820829e-08e3-4188-91c1-61a3d8d11776\", \"x\": [\"AFD\", \"Published\", \"May not share\", \"Unclear/Unknown\"], \"y\": [\"\", 344.0, \"\", \"\"]}, {\"marker\": {\"color\": \"rgba(50, 171, 96, 0.6)\", \"line\": {\"color\": \"rgba(50, 171, 96, 1.0)\", \"width\": 1}}, \"name\": \"May not share\", \"orientation\": \"v\", \"text\": \"\", \"type\": \"bar\", \"uid\": \"0c1e4671-f3df-4bbd-aa8c-c8b19ca55ebc\", \"x\": [\"AFD\", \"Published\", \"May not share\", \"Unclear/Unknown\"], \"y\": [\"\", \"\", 3.0, \"\"]}, {\"marker\": {\"color\": \"rgba(128, 0, 128, 0.6)\", \"line\": {\"color\": \"rgba(128, 0, 128, 1.0)\", \"width\": 1}}, \"name\": \"Unclear/Unknown\", \"orientation\": \"v\", \"text\": \"\", \"type\": \"bar\", \"uid\": \"7bbd919d-f169-4f88-9463-654e3b4c9dc2\", \"x\": [\"AFD\", \"Published\", \"May not share\", \"Unclear/Unknown\"], \"y\": [\"\", \"\", \"\", 15.0]}],\n",
       "                        {\"barmode\": \"stack\", \"legend\": {\"bgcolor\": \"#F5F6F9\", \"font\": {\"color\": \"#4D5663\"}, \"traceorder\": \"normal\"}, \"paper_bgcolor\": \"#F5F6F9\", \"plot_bgcolor\": \"#F5F6F9\", \"title\": {\"font\": {\"color\": \"#4D5663\"}, \"text\": \"Publisher Policies for Articles that are Free to Read\"}, \"xaxis\": {\"gridcolor\": \"#E1E5ED\", \"showgrid\": true, \"tickfont\": {\"color\": \"#4D5663\"}, \"title\": {\"font\": {\"color\": \"#4D5663\"}, \"text\": \"\"}, \"zerolinecolor\": \"#E1E5ED\"}, \"yaxis\": {\"gridcolor\": \"#E1E5ED\", \"showgrid\": true, \"tickfont\": {\"color\": \"#4D5663\"}, \"title\": {\"font\": {\"color\": \"#4D5663\"}, \"text\": \"\"}, \"zerolinecolor\": \"#E1E5ED\"}},\n",
       "                        {\"showLink\": true, \"linkText\": \"Export to plot.ly\", \"plotlyServerURL\": \"https://plot.ly\", \"responsive\": true}\n",
       "                    ).then(function(){\n",
       "                            \n",
       "var gd = document.getElementById('d807981b-ae8d-422e-96af-bf1efc63efb0');\n",
       "var x = new MutationObserver(function (mutations, observer) {{\n",
       "        var display = window.getComputedStyle(gd).display;\n",
       "        if (!display || display === 'none') {{\n",
       "            console.log([gd, 'removed!']);\n",
       "            Plotly.purge(gd);\n",
       "            observer.disconnect();\n",
       "        }}\n",
       "}});\n",
       "\n",
       "// Listen for the removal of the full notebook cells\n",
       "var notebookContainer = gd.closest('#notebook-container');\n",
       "if (notebookContainer) {{\n",
       "    x.observe(notebookContainer, {childList: true});\n",
       "}}\n",
       "\n",
       "// Listen for the clearing of the current output cell\n",
       "var outputEl = gd.closest('.output');\n",
       "if (outputEl) {{\n",
       "    x.observe(outputEl, {childList: true});\n",
       "}}\n",
       "\n",
       "                        })\n",
       "                };\n",
       "                });\n",
       "            </script>\n",
       "        </div>"
      ]
     },
     "metadata": {},
     "output_type": "display_data"
    }
   ],
   "source": [
    "afd = open_dois[open_dois['Rights_to_share']=='AFD']['Rights_to_share'].value_counts()\n",
    "unknown = open_dois[open_dois['Rights_to_share']=='Unclear/Unknown']['Rights_to_share'].value_counts()\n",
    "published = open_dois[open_dois['Rights_to_share']=='Published']['Rights_to_share'].value_counts()\n",
    "no_share = open_dois[open_dois['Rights_to_share']=='May not share']['Rights_to_share'].value_counts()\n",
    "\n",
    "df3 = pd.DataFrame([afd,published,no_share,unknown])\n",
    "df3.index = ['AFD','Published','May not share','Unclear/Unknown']\n",
    "df3.iplot(kind='bar',barmode='stack', title='Publisher Policies for Articles that are Free to Read')"
   ]
  },
  {
   "cell_type": "code",
   "execution_count": null,
   "metadata": {},
   "outputs": [],
   "source": []
  }
 ],
 "metadata": {
  "kernelspec": {
   "display_name": "Python 3",
   "language": "python",
   "name": "python3"
  },
  "language_info": {
   "codemirror_mode": {
    "name": "ipython",
    "version": 3
   },
   "file_extension": ".py",
   "mimetype": "text/x-python",
   "name": "python",
   "nbconvert_exporter": "python",
   "pygments_lexer": "ipython3",
   "version": "3.7.2"
  }
 },
 "nbformat": 4,
 "nbformat_minor": 2
}
