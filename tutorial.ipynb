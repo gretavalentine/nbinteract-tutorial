{
 "cells": [
  {
   "cell_type": "code",
   "execution_count": 1,
   "metadata": {},
   "outputs": [],
   "source": [
    "#using tutorial at: https://www.nbinteract.com/tutorial/tutorial_interact.html"
   ]
  },
  {
   "cell_type": "markdown",
   "metadata": {},
   "source": [
    "# Using Interact"
   ]
  },
  {
   "cell_type": "markdown",
   "metadata": {},
   "source": [
    "The `ipywidgets` library provides the simplest way to get started writing interactive documents. Although the library itself has its own documentation, we will provide a quick overview to let you get started as quickly as possible.\n",
    "\n",
    "We start by importing the `interact` function:"
   ]
  },
  {
   "cell_type": "code",
   "execution_count": 2,
   "metadata": {},
   "outputs": [],
   "source": [
    "from ipywidgets import interact"
   ]
  },
  {
   "cell_type": "markdown",
   "metadata": {},
   "source": [
    "The `interact` function takes in a function and produces an interface to call the function with different parameters."
   ]
  },
  {
   "cell_type": "code",
   "execution_count": 3,
   "metadata": {},
   "outputs": [],
   "source": [
    "def square(x):\n",
    "    return x * x"
   ]
  },
  {
   "cell_type": "markdown",
   "metadata": {},
   "source": [
    "Pass the `square` function into `interact` and specify `square`'s arguments as keyword arguments:"
   ]
  },
  {
   "cell_type": "code",
   "execution_count": 4,
   "metadata": {},
   "outputs": [
    {
     "data": {
      "application/vnd.jupyter.widget-view+json": {
       "model_id": "72433704c45544dfba34a3a919044387",
       "version_major": 2,
       "version_minor": 0
      },
      "text/plain": [
       "interactive(children=(IntSlider(value=10, description='x', max=30, min=-10), Output()), _dom_classes=('widget-…"
      ]
     },
     "metadata": {},
     "output_type": "display_data"
    },
    {
     "data": {
      "text/plain": [
       "<function __main__.square(x)>"
      ]
     },
     "execution_count": 4,
     "metadata": {},
     "output_type": "execute_result"
    }
   ],
   "source": [
    "interact(square, x=10)"
   ]
  },
  {
   "cell_type": "markdown",
   "metadata": {},
   "source": [
    "To control the range of values x can take, you can pass in a tuple of the same format as Python's `range` function:"
   ]
  },
  {
   "cell_type": "code",
   "execution_count": 5,
   "metadata": {},
   "outputs": [
    {
     "data": {
      "application/vnd.jupyter.widget-view+json": {
       "model_id": "67fc93ed629e49b5960e1659cb4e3da1",
       "version_major": 2,
       "version_minor": 0
      },
      "text/plain": [
       "interactive(children=(IntSlider(value=50, description='x', step=10), Output()), _dom_classes=('widget-interact…"
      ]
     },
     "metadata": {},
     "output_type": "display_data"
    }
   ],
   "source": [
    "interact(square, x=(0,100,10));"
   ]
  },
  {
   "cell_type": "markdown",
   "metadata": {},
   "source": [
    "Notice how dragging the slider changes the input to the `square` function and automatically updates the output. This is a powerful idea that we will build on for the rest of this tutorial.\n",
    "\n",
    "By using `interact`, you can build complex widget-based interfaces in a notebook. These widgets will appear in your resulting webpage, giving your page interactivity."
   ]
  },
  {
   "cell_type": "markdown",
   "metadata": {},
   "source": [
    "# Widget Types"
   ]
  },
  {
   "cell_type": "markdown",
   "metadata": {},
   "source": [
    "Notice that `interact` automatically generates a slider because the argument is numeric. Other types of arguments will generate different types of interfaces. For example, a string will generate a textbox."
   ]
  },
  {
   "cell_type": "code",
   "execution_count": 6,
   "metadata": {},
   "outputs": [],
   "source": [
    "def friends(name, number):\n",
    "    return '{} has {} friends!'.format(name, number)"
   ]
  },
  {
   "cell_type": "code",
   "execution_count": 7,
   "metadata": {},
   "outputs": [
    {
     "data": {
      "application/vnd.jupyter.widget-view+json": {
       "model_id": "7a4125fa524c4a2a946ac1adb30bf12f",
       "version_major": 2,
       "version_minor": 0
      },
      "text/plain": [
       "interactive(children=(Text(value='Sam', description='name'), IntSlider(value=7, description='number', max=10, …"
      ]
     },
     "metadata": {},
     "output_type": "display_data"
    }
   ],
   "source": [
    "interact(friends,name='Sam', number=(5,10));"
   ]
  },
  {
   "cell_type": "markdown",
   "metadata": {},
   "source": [
    "And a dictionary will generate a dropdown menu:"
   ]
  },
  {
   "cell_type": "code",
   "execution_count": 8,
   "metadata": {},
   "outputs": [
    {
     "data": {
      "application/vnd.jupyter.widget-view+json": {
       "model_id": "324e5406a9a541e38d32fef07d620f25",
       "version_major": 2,
       "version_minor": 0
      },
      "text/plain": [
       "interactive(children=(Text(value='Sam', description='name'), Dropdown(description='number', options={'One': 1,…"
      ]
     },
     "metadata": {},
     "output_type": "display_data"
    }
   ],
   "source": [
    "interact(friends, name='Sam', number={'One': 1, 'Five':5, 'Ten':10});"
   ]
  },
  {
   "cell_type": "markdown",
   "metadata": {},
   "source": [
    "# Publishing A Webpage"
   ]
  },
  {
   "cell_type": "markdown",
   "metadata": {},
   "source": [
    "To convert a notebook into an HTML file, start a terminal and run the following command."
   ]
  },
  {
   "cell_type": "markdown",
   "metadata": {},
   "source": [
    "`nbinteract tutorial.ipynb`"
   ]
  },
  {
   "cell_type": "markdown",
   "metadata": {},
   "source": [
    "This generates a `tutorial.html` file with the contents of the notebook created in the previous section. Now, push your files to GitHub by running:"
   ]
  },
  {
   "cell_type": "markdown",
   "metadata": {},
   "source": [
    "`git add -A\n",
    "git commit -m \"Publish nb\"\n",
    "git push origin master`"
   ]
  },
  {
   "cell_type": "markdown",
   "metadata": {},
   "source": [
    "After pushing, you now have a URL you can view and share:"
   ]
  },
  {
   "cell_type": "markdown",
   "metadata": {},
   "source": [
    "`{username}.github.io/nbinteract-tutorial/tutorial.html`"
   ]
  },
  {
   "cell_type": "markdown",
   "metadata": {},
   "source": [
    "# Simulating a Game"
   ]
  },
  {
   "cell_type": "markdown",
   "metadata": {},
   "source": [
    "One way to write an interactive explanation is to write functions and create interactions for each one as applicable. Composing the functions allows you to create more complicated processes. `nbinteract` also provides tools for interactive visualizations as we will soon see.\n",
    "\n",
    "Let's start with defining a function to simulate one round of the Monty Hall Problem."
   ]
  },
  {
   "cell_type": "code",
   "execution_count": 13,
   "metadata": {},
   "outputs": [],
   "source": [
    "from ipywidgets import interact\n",
    "import numpy as np\n",
    "import random\n",
    "\n",
    "PRIZES = ['Car', 'Goat 1', 'Goat 2']\n",
    "\n",
    "def monty_hall(example_num=0):\n",
    "    '''\n",
    "    Simulates one round of the Monty Hall Problem. Outputs a tuple of\n",
    "    (result if stay, result if switch, result behind opened door) where\n",
    "    each results is one of PRIZES.\n",
    "    '''\n",
    "    pick = random.choice(PRIZES)\n",
    "    opened = random.choice(\n",
    "        [p for p in PRIZES if p != pick and p != 'Car']\n",
    "    )\n",
    "    remainder = next(p for p in PRIZES if p != pick and p != opened)\n",
    "    return (pick, remainder, opened)"
   ]
  },
  {
   "cell_type": "markdown",
   "metadata": {},
   "source": [
    "Note that the `example_num` argument is passed in but not used in the `monty_hall` function. Although it's unneeded for the function, it is easier to use `interact` to call functions when they have arguments to manipulate:"
   ]
  },
  {
   "cell_type": "code",
   "execution_count": 14,
   "metadata": {},
   "outputs": [
    {
     "data": {
      "application/vnd.jupyter.widget-view+json": {
       "model_id": "09872b4597624a5dbc69ee7a402e9bd0",
       "version_major": 2,
       "version_minor": 0
      },
      "text/plain": [
       "interactive(children=(IntSlider(value=0, description='example_num'), Output()), _dom_classes=('widget-interact…"
      ]
     },
     "metadata": {},
     "output_type": "display_data"
    }
   ],
   "source": [
    "interact(monty_hall, example_num=(0, 100));"
   ]
  },
  {
   "cell_type": "markdown",
   "metadata": {},
   "source": [
    "By interacting with the function above, we are able to informally verify that the function never allows the host to open a door with a car behind it. Even though the function is random we are able to use interaction to examine its long-term behavior!\n",
    "\n",
    "We'll continue by defining a function to simulate a game of Monty Hall and output the winning strategy for that game:"
   ]
  },
  {
   "cell_type": "code",
   "execution_count": 15,
   "metadata": {},
   "outputs": [
    {
     "data": {
      "application/vnd.jupyter.widget-view+json": {
       "model_id": "db5ac44b15884766938d47eb9162f195",
       "version_major": 2,
       "version_minor": 0
      },
      "text/plain": [
       "interactive(children=(IntSlider(value=0, description='example_num'), Output()), _dom_classes=('widget-interact…"
      ]
     },
     "metadata": {},
     "output_type": "display_data"
    }
   ],
   "source": [
    "def winner(example_num=0):\n",
    "    '''\n",
    "    Plays a game of Monty Hall. If staying with the original door wins\n",
    "    a car, return 'stay'. Otherwise, the remaining door contains the car\n",
    "    so 'switch' would have won.\n",
    "    '''\n",
    "    picked, _, _ = monty_hall()\n",
    "    return 'stay' if picked == 'Car' else 'switch'\n",
    "\n",
    "interact(winner, example_num=(0, 100));"
   ]
  },
  {
   "cell_type": "markdown",
   "metadata": {},
   "source": [
    "Again, a bit of interaction lets us quickly examine the behavior of `winner`. We can see that `switch` appears more often than `stay`."
   ]
  },
  {
   "cell_type": "markdown",
   "metadata": {},
   "source": [
    "# Brief Introduction to Plotting with nbinteract"
   ]
  },
  {
   "cell_type": "markdown",
   "metadata": {},
   "source": [
    "Let's create an interactive bar chart of the number of times each strategy wins. We'll use `nbinteract`'s plotting functionality.\n",
    "\n",
    "`nbi.bar` creates a bar chart:"
   ]
  },
  {
   "cell_type": "code",
   "execution_count": 16,
   "metadata": {},
   "outputs": [
    {
     "data": {
      "application/vnd.jupyter.widget-view+json": {
       "model_id": "f58cb2a6d2da42878a65347c7dbc9a77",
       "version_major": 2,
       "version_minor": 0
      },
      "text/plain": [
       "VBox(children=(interactive(children=(Output(),), _dom_classes=('widget-interact',)), Figure(axes=[Axis(scale=O…"
      ]
     },
     "metadata": {},
     "output_type": "display_data"
    }
   ],
   "source": [
    "import nbinteract as nbi\n",
    "\n",
    "nbi.bar(['a', 'b'], [4, 6])"
   ]
  },
  {
   "cell_type": "markdown",
   "metadata": {},
   "source": [
    "To make an interactive chart, pass a response function in place of one or both of `bar`'s arguments."
   ]
  },
  {
   "cell_type": "code",
   "execution_count": 17,
   "metadata": {},
   "outputs": [
    {
     "data": {
      "application/vnd.jupyter.widget-view+json": {
       "model_id": "4ad12b4fc83141c2b243cb2d947ff014",
       "version_major": 2,
       "version_minor": 0
      },
      "text/plain": [
       "VBox(children=(interactive(children=(IntSlider(value=4, description='n', max=7, min=1), IntSlider(value=5, des…"
      ]
     },
     "metadata": {},
     "output_type": "display_data"
    }
   ],
   "source": [
    "# This function generates the x-values\n",
    "def categories(n):\n",
    "    return list('abcdefg')[:n]\n",
    "\n",
    "# This function generates the y-values (heights of bars)\n",
    "# The y response function always takes in the x-values as its\n",
    "# first argument\n",
    "def offset_y(xs, offset):\n",
    "    num_categories = len(xs)\n",
    "    return np.arange(num_categories) + offset\n",
    "\n",
    "# Each argument of the response functions is passed in as a keyword\n",
    "# argument to `nbi.bar` in the same format as `interact`\n",
    "nbi.bar(categories, offset_y, n=(1, 7), offset=(0, 10))"
   ]
  },
  {
   "cell_type": "markdown",
   "metadata": {},
   "source": [
    "# Visualizing the Winners"
   ]
  },
  {
   "cell_type": "markdown",
   "metadata": {},
   "source": [
    "Now, let's turn back to our original goal: plotting the winners as games are played.\n",
    "\n",
    "We can call `winner` many times and use `nbi.bar` to show the bar chart as it's built over the trials.\n",
    "\n",
    "Note that we compute the results before defining our function `won`. This has two benefits over running the simulation directly in `won`:\n",
    "\n",
    "1. It gives us consistency in our interaction. If we run a random simulation in `won`, moving the slider from 500 to a different number back to 500 will give us a slightly different bar chart.\n",
    "\n",
    "2. It makes the interaction smoother since less work is being done each time the slider is moved."
   ]
  },
  {
   "cell_type": "code",
   "execution_count": 18,
   "metadata": {},
   "outputs": [
    {
     "data": {
      "application/vnd.jupyter.widget-view+json": {
       "model_id": "e5daec2fe92c4950978fd0b5d51fd302",
       "version_major": 2,
       "version_minor": 0
      },
      "text/plain": [
       "VBox(children=(interactive(children=(IntSlider(value=500, description='num_games', max=1000, min=1), Output())…"
      ]
     },
     "metadata": {},
     "output_type": "display_data"
    }
   ],
   "source": [
    "categories = ['stay', 'switch']\n",
    "\n",
    "winners = [winner() for _ in range(1000)]\n",
    "\n",
    "# Note that the the first argument to the y response function\n",
    "# will be the x-values which we don't need\n",
    "def won(_, num_games):\n",
    "    '''\n",
    "    Outputs a 2-tuple of the number of times each strategy won\n",
    "    after num_games games.\n",
    "    '''\n",
    "    return (winners[:num_games].count('stay'),\n",
    "            winners[:num_games].count('switch'))\n",
    "\n",
    "nbi.bar(categories, won, num_games=(1, 1000))"
   ]
  },
  {
   "cell_type": "markdown",
   "metadata": {},
   "source": [
    "Note that by default the plot will adjust its y-axis to match the limits of the data. We can manually set the y-axis limits to better visualize this plot being built up. We will also add labels to our plot:"
   ]
  },
  {
   "cell_type": "code",
   "execution_count": 19,
   "metadata": {},
   "outputs": [
    {
     "data": {
      "application/vnd.jupyter.widget-view+json": {
       "model_id": "1f1ed6495fb44da78823b4587bce9031",
       "version_major": 2,
       "version_minor": 0
      },
      "text/plain": [
       "VBox(children=(interactive(children=(IntSlider(value=500, description='num_games', max=1000, min=1), Output())…"
      ]
     },
     "metadata": {},
     "output_type": "display_data"
    }
   ],
   "source": [
    "options = {\n",
    "    'title': 'Number of times each strategy wins',\n",
    "    'xlabel': 'Strategy',\n",
    "    'ylabel': 'Number of wins',\n",
    "    'ylim': (0, 700),\n",
    "}\n",
    "\n",
    "nbi.bar(categories, won, options=options, num_games=(1, 1000))"
   ]
  },
  {
   "cell_type": "markdown",
   "metadata": {},
   "source": [
    "We can get even fancy and use the Play widget from ipywidgets to animate the plot."
   ]
  },
  {
   "cell_type": "code",
   "execution_count": 20,
   "metadata": {},
   "outputs": [
    {
     "data": {
      "application/vnd.jupyter.widget-view+json": {
       "model_id": "ee45e44ca5ae4b74b998aec6699a13c4",
       "version_major": 2,
       "version_minor": 0
      },
      "text/plain": [
       "VBox(children=(interactive(children=(Play(value=0, description='num_games', interval=17, max=1000, step=10), O…"
      ]
     },
     "metadata": {},
     "output_type": "display_data"
    }
   ],
   "source": [
    "from ipywidgets import Play\n",
    "\n",
    "nbi.bar(categories, won, options=options,\n",
    "        num_games=Play(min=0, max=1000, step=10, value=0, interval=17))"
   ]
  },
  {
   "cell_type": "markdown",
   "metadata": {},
   "source": [
    "Now we have an interactive, animated bar plot showing the distribution of wins over time for both Monty Hall strategies. This is a convincing argument that switching is better than staying. In fact, the bar plot above suggests that switching is about twice as likely to win as staying!"
   ]
  },
  {
   "cell_type": "markdown",
   "metadata": {},
   "source": [
    "# Simulating Sets of Games"
   ]
  },
  {
   "cell_type": "markdown",
   "metadata": {},
   "source": [
    "Is switching actually twice as likely to win? We can again use simulation to answer this question by simulating sets of 50 games at a time. recording the proportion of times switch wins."
   ]
  },
  {
   "cell_type": "code",
   "execution_count": 21,
   "metadata": {},
   "outputs": [
    {
     "data": {
      "application/vnd.jupyter.widget-view+json": {
       "model_id": "038520cd429f4324b47ce0c917da1445",
       "version_major": 2,
       "version_minor": 0
      },
      "text/plain": [
       "interactive(children=(IntSlider(value=55, description='sample_size', min=10), Output()), _dom_classes=('widget…"
      ]
     },
     "metadata": {},
     "output_type": "display_data"
    }
   ],
   "source": [
    "def prop_wins(sample_size):\n",
    "    '''Returns proportion of times switching wins after sample_size games.'''\n",
    "    return sum(winner() == 'switch' for _ in range(sample_size)) / sample_size\n",
    "\n",
    "interact(prop_wins, sample_size=(10, 100));"
   ]
  },
  {
   "cell_type": "markdown",
   "metadata": {},
   "source": [
    "We can then define a function to play sets of games and generate a list of win proportions for each set:"
   ]
  },
  {
   "cell_type": "code",
   "execution_count": 22,
   "metadata": {},
   "outputs": [
    {
     "data": {
      "application/vnd.jupyter.widget-view+json": {
       "model_id": "9a50859b250343dba69551908ce0f89a",
       "version_major": 2,
       "version_minor": 0
      },
      "text/plain": [
       "interactive(children=(IntSlider(value=55, description='sample_size', min=10), IntSlider(value=55, description=…"
      ]
     },
     "metadata": {},
     "output_type": "display_data"
    }
   ],
   "source": [
    "def generate_proportions(sample_size, repetitions):\n",
    "    '''\n",
    "    Returns an array of length reptitions. Each element in the list is the\n",
    "    proportion of times switching won in sample_size games.\n",
    "    '''\n",
    "    return np.array([prop_wins(sample_size) for _ in range(repetitions)])\n",
    "\n",
    "interact(generate_proportions, sample_size=(10, 100), repetitions=(10, 100));"
   ]
  },
  {
   "cell_type": "markdown",
   "metadata": {},
   "source": [
    "Interacting with generate_proportions shows the relationship between its arguments sample_size and repetitions more quickly than reading the function itself!"
   ]
  },
  {
   "cell_type": "markdown",
   "metadata": {},
   "source": [
    "# Visualizing Proportions"
   ]
  },
  {
   "cell_type": "markdown",
   "metadata": {},
   "source": [
    "We can then use nbi.hist to show these proportions being computed over runs.\n",
    "\n",
    "Again, we pre-compute the simulations and interact with a function that takes a slice of the simulations to make the interaction faster."
   ]
  },
  {
   "cell_type": "code",
   "execution_count": 23,
   "metadata": {},
   "outputs": [
    {
     "data": {
      "application/vnd.jupyter.widget-view+json": {
       "model_id": "cc9e8d4be5f741af9f322200f3b3c7b1",
       "version_major": 2,
       "version_minor": 0
      },
      "text/plain": [
       "VBox(children=(interactive(children=(Play(value=0, description='num_sets', interval=50), Output()), _dom_class…"
      ]
     },
     "metadata": {},
     "output_type": "display_data"
    }
   ],
   "source": [
    "# Play the game 10 times, recording the proportion of times switching wins.\n",
    "# Repeat 100 times to record 100 proportions\n",
    "proportions = generate_proportions(sample_size=10, repetitions=100)\n",
    "\n",
    "def props_up_to(num_sets):\n",
    "    return proportions[:num_sets]\n",
    "\n",
    "nbi.hist(props_up_to, num_sets=Play(min=0, max=100, value=0, interval=50))"
   ]
  },
  {
   "cell_type": "markdown",
   "metadata": {},
   "source": [
    "As with last time, it's illustrative to specify the limits of the axes:"
   ]
  },
  {
   "cell_type": "code",
   "execution_count": 24,
   "metadata": {},
   "outputs": [
    {
     "data": {
      "application/vnd.jupyter.widget-view+json": {
       "model_id": "4c14676880d64e47b69e31145fbda54d",
       "version_major": 2,
       "version_minor": 0
      },
      "text/plain": [
       "VBox(children=(interactive(children=(Play(value=0, description='num_sets', interval=50), Output()), _dom_class…"
      ]
     },
     "metadata": {},
     "output_type": "display_data"
    }
   ],
   "source": [
    "options = {\n",
    "    'title': 'Distribution of win proportion over 100 sets of 10 games when switching',\n",
    "    'xlabel': 'Proportions',\n",
    "    'ylabel': 'Percent per area',\n",
    "    'xlim': (0.3, 1),\n",
    "    'ylim': (0, 3),\n",
    "    'bins': 7,\n",
    "}\n",
    "\n",
    "nbi.hist(props_up_to, options=options, num_sets=Play(min=0, max=100, value=0, interval=50))"
   ]
  },
  {
   "cell_type": "markdown",
   "metadata": {},
   "source": [
    "We can see that the distribution of wins is centered at roughly 0.66 but the distribution almost spans the entire x-axis. Will increasing the sample size make our distribution more narrow? Will increasing repetitions do the trick? Or both? We can find out through simulation and interaction.\n",
    "\n",
    "We'll start with increasing the sample size:"
   ]
  },
  {
   "cell_type": "code",
   "execution_count": 25,
   "metadata": {},
   "outputs": [
    {
     "data": {
      "application/vnd.jupyter.widget-view+json": {
       "model_id": "2bb938f4fd7c4daa88c986d95e8c0748",
       "version_major": 2,
       "version_minor": 0
      },
      "text/plain": [
       "VBox(children=(interactive(children=(Play(value=10, description='sample_size', interval=50, min=10), Output())…"
      ]
     },
     "metadata": {},
     "output_type": "display_data"
    }
   ],
   "source": [
    "varying_sample_size = [generate_proportions(sample_size, repetitions=100)\n",
    "                       for sample_size in range(10, 101)]\n",
    "\n",
    "def props_for_sample_size(sample_size):\n",
    "    return varying_sample_size[sample_size - 10]\n",
    "\n",
    "changed_options = {\n",
    "    'title': 'Distribution of win proportions as sample size increases',\n",
    "    'ylim': (0, 6),\n",
    "    'bins': 20,\n",
    "}\n",
    "\n",
    "nbi.hist(props_for_sample_size,\n",
    "         options={**options, **changed_options},\n",
    "         sample_size=Play(min=10, max=100, value=10, interval=50))"
   ]
  },
  {
   "cell_type": "markdown",
   "metadata": {},
   "source": [
    "So increasing the sample size makes the distribution narrower. We can now see more clearly that the distribution is centered at 0.66.\n",
    "\n",
    "We can repeat the process for the number of repetitions:"
   ]
  },
  {
   "cell_type": "code",
   "execution_count": 26,
   "metadata": {},
   "outputs": [
    {
     "data": {
      "application/vnd.jupyter.widget-view+json": {
       "model_id": "b65cf95506e646ca925ab3b76191da5d",
       "version_major": 2,
       "version_minor": 0
      },
      "text/plain": [
       "VBox(children=(interactive(children=(Play(value=10, description='reps', interval=50, min=10), Output()), _dom_…"
      ]
     },
     "metadata": {},
     "output_type": "display_data"
    }
   ],
   "source": [
    "varying_reps = [generate_proportions(sample_size=10, repetitions=reps) for reps in range(10, 101)]\n",
    "\n",
    "def props_for_reps(reps):\n",
    "    return varying_reps[reps - 10]\n",
    "\n",
    "changed_options = {\n",
    "    'title': 'Distribution of win proportions as repetitions increase',\n",
    "    'ylim': (0, 5),\n",
    "}\n",
    "\n",
    "nbi.hist(props_for_reps,\n",
    "         options={**options, **changed_options},\n",
    "         reps=Play(min=10, max=100, value=10, interval=50))"
   ]
  },
  {
   "cell_type": "markdown",
   "metadata": {},
   "source": [
    "Our distribution gets smoother as the number of repetitions increases since we have more proportions to plot. However, the spread of the distribution remains the same."
   ]
  },
  {
   "cell_type": "markdown",
   "metadata": {},
   "source": [
    "# Results"
   ]
  },
  {
   "cell_type": "markdown",
   "metadata": {},
   "source": [
    "Through simulation, we've shown that increasing the sample size causes our distribution of proportions to become more narrowly distributed. Increasing the number of repetitions makes our distribution look smoother when plotted but doesn't affect the distribution spread.\n",
    "\n",
    "We've also seen through increasing the sample size shows that our distribution is centered at 0.66. This implies that the probability of winning the Monty Hall game when switching is around 0.66, and thus the probability of winning the Monty Hall game when staying is around 0.33."
   ]
  },
  {
   "cell_type": "markdown",
   "metadata": {},
   "source": [
    "# Conclusion"
   ]
  },
  {
   "cell_type": "markdown",
   "metadata": {},
   "source": [
    "Through this extended example, we've shown how interaction and visualization can help explore ideas and convincingly explain concepts. Congrats on making it through the tutorial! Let's now publish your results to the web.\n",
    "\n",
    "Like the previous section of the tutorial, you should open a terminal and run the following command:\n",
    "\n",
    "`nbinteract {notebook}`\n",
    "\n",
    "Where `{notebook}` is replaced with the name of the notebook you wish to convert (e.g. nbinteract monty.ipynb). Now, commit and push your changes:\n",
    "\n",
    "`git add -A\n",
    "git commit -m \"Publish nb\"\n",
    "git push origin master`\n",
    "\n",
    "As before, you will now have a URL pointing to the interactive webpage generated by this tutorial:\n",
    "\n",
    "`{username}.github.io/nbinteract-tutorial/monty.html`\n",
    "\n",
    "Where `{username}` is replaced with your GitHub username."
   ]
  },
  {
   "cell_type": "code",
   "execution_count": null,
   "metadata": {},
   "outputs": [],
   "source": []
  }
 ],
 "metadata": {
  "kernelspec": {
   "display_name": "Python 3",
   "language": "python",
   "name": "python3"
  },
  "language_info": {
   "codemirror_mode": {
    "name": "ipython",
    "version": 3
   },
   "file_extension": ".py",
   "mimetype": "text/x-python",
   "name": "python",
   "nbconvert_exporter": "python",
   "pygments_lexer": "ipython3",
   "version": "3.7.2"
  }
 },
 "nbformat": 4,
 "nbformat_minor": 2
}
